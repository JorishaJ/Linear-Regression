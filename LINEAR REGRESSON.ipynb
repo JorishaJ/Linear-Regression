{
 "cells": [
  {
   "cell_type": "code",
   "execution_count": 1,
   "id": "b81e6d56",
   "metadata": {},
   "outputs": [],
   "source": [
    "import numpy as np\n",
    "import pandas as pd\n",
    "import matplotlib.pyplot as plt\n",
    "import seaborn as sns\n",
    "import pickle\n",
    "import os\n",
    "%matplotlib inline"
   ]
  },
  {
   "cell_type": "code",
   "execution_count": 4,
   "id": "e39b630d",
   "metadata": {},
   "outputs": [],
   "source": [
    "dataset=pd.read_csv('Linear Regression1.csv')"
   ]
  },
  {
   "cell_type": "code",
   "execution_count": 5,
   "id": "282ce6fd",
   "metadata": {},
   "outputs": [
    {
     "data": {
      "text/html": [
       "<div>\n",
       "<style scoped>\n",
       "    .dataframe tbody tr th:only-of-type {\n",
       "        vertical-align: middle;\n",
       "    }\n",
       "\n",
       "    .dataframe tbody tr th {\n",
       "        vertical-align: top;\n",
       "    }\n",
       "\n",
       "    .dataframe thead th {\n",
       "        text-align: right;\n",
       "    }\n",
       "</style>\n",
       "<table border=\"1\" class=\"dataframe\">\n",
       "  <thead>\n",
       "    <tr style=\"text-align: right;\">\n",
       "      <th></th>\n",
       "      <th>S.NO</th>\n",
       "      <th>YOUTUBE</th>\n",
       "      <th>FACEBOOK</th>\n",
       "      <th>NEWSPAPER</th>\n",
       "      <th>SALES</th>\n",
       "    </tr>\n",
       "  </thead>\n",
       "  <tbody>\n",
       "    <tr>\n",
       "      <th>0</th>\n",
       "      <td>1</td>\n",
       "      <td>276.12</td>\n",
       "      <td>45.36</td>\n",
       "      <td>83.04</td>\n",
       "      <td>2652</td>\n",
       "    </tr>\n",
       "    <tr>\n",
       "      <th>1</th>\n",
       "      <td>2</td>\n",
       "      <td>53.40</td>\n",
       "      <td>47.16</td>\n",
       "      <td>54.12</td>\n",
       "      <td>1248</td>\n",
       "    </tr>\n",
       "    <tr>\n",
       "      <th>2</th>\n",
       "      <td>3</td>\n",
       "      <td>20.64</td>\n",
       "      <td>55.08</td>\n",
       "      <td>83.16</td>\n",
       "      <td>1116</td>\n",
       "    </tr>\n",
       "    <tr>\n",
       "      <th>3</th>\n",
       "      <td>4</td>\n",
       "      <td>181.80</td>\n",
       "      <td>49.56</td>\n",
       "      <td>70.20</td>\n",
       "      <td>2220</td>\n",
       "    </tr>\n",
       "    <tr>\n",
       "      <th>4</th>\n",
       "      <td>5</td>\n",
       "      <td>216.96</td>\n",
       "      <td>12.96</td>\n",
       "      <td>70.08</td>\n",
       "      <td>1548</td>\n",
       "    </tr>\n",
       "    <tr>\n",
       "      <th>5</th>\n",
       "      <td>6</td>\n",
       "      <td>10.44</td>\n",
       "      <td>58.68</td>\n",
       "      <td>90.00</td>\n",
       "      <td>8640</td>\n",
       "    </tr>\n",
       "    <tr>\n",
       "      <th>6</th>\n",
       "      <td>7</td>\n",
       "      <td>69.00</td>\n",
       "      <td>39.36</td>\n",
       "      <td>28.20</td>\n",
       "      <td>1416</td>\n",
       "    </tr>\n",
       "    <tr>\n",
       "      <th>7</th>\n",
       "      <td>8</td>\n",
       "      <td>144.24</td>\n",
       "      <td>23.52</td>\n",
       "      <td>13.92</td>\n",
       "      <td>1584</td>\n",
       "    </tr>\n",
       "    <tr>\n",
       "      <th>8</th>\n",
       "      <td>9</td>\n",
       "      <td>10.32</td>\n",
       "      <td>2.52</td>\n",
       "      <td>1.20</td>\n",
       "      <td>5760</td>\n",
       "    </tr>\n",
       "    <tr>\n",
       "      <th>9</th>\n",
       "      <td>10</td>\n",
       "      <td>239.76</td>\n",
       "      <td>3.12</td>\n",
       "      <td>25.44</td>\n",
       "      <td>1272</td>\n",
       "    </tr>\n",
       "    <tr>\n",
       "      <th>10</th>\n",
       "      <td>11</td>\n",
       "      <td>253.12</td>\n",
       "      <td>44.37</td>\n",
       "      <td>73.04</td>\n",
       "      <td>2658</td>\n",
       "    </tr>\n",
       "    <tr>\n",
       "      <th>11</th>\n",
       "      <td>12</td>\n",
       "      <td>53.50</td>\n",
       "      <td>57.16</td>\n",
       "      <td>55.30</td>\n",
       "      <td>1258</td>\n",
       "    </tr>\n",
       "    <tr>\n",
       "      <th>12</th>\n",
       "      <td>13</td>\n",
       "      <td>20.66</td>\n",
       "      <td>75.08</td>\n",
       "      <td>86.16</td>\n",
       "      <td>1516</td>\n",
       "    </tr>\n",
       "    <tr>\n",
       "      <th>13</th>\n",
       "      <td>14</td>\n",
       "      <td>185.80</td>\n",
       "      <td>48.56</td>\n",
       "      <td>75.20</td>\n",
       "      <td>2520</td>\n",
       "    </tr>\n",
       "    <tr>\n",
       "      <th>14</th>\n",
       "      <td>15</td>\n",
       "      <td>252.96</td>\n",
       "      <td>15.96</td>\n",
       "      <td>70.58</td>\n",
       "      <td>1578</td>\n",
       "    </tr>\n",
       "    <tr>\n",
       "      <th>15</th>\n",
       "      <td>16</td>\n",
       "      <td>10.49</td>\n",
       "      <td>68.68</td>\n",
       "      <td>99.00</td>\n",
       "      <td>8940</td>\n",
       "    </tr>\n",
       "    <tr>\n",
       "      <th>16</th>\n",
       "      <td>17</td>\n",
       "      <td>67.00</td>\n",
       "      <td>43.36</td>\n",
       "      <td>58.20</td>\n",
       "      <td>2516</td>\n",
       "    </tr>\n",
       "    <tr>\n",
       "      <th>17</th>\n",
       "      <td>18</td>\n",
       "      <td>145.24</td>\n",
       "      <td>23.90</td>\n",
       "      <td>15.92</td>\n",
       "      <td>1564</td>\n",
       "    </tr>\n",
       "    <tr>\n",
       "      <th>18</th>\n",
       "      <td>19</td>\n",
       "      <td>10.31</td>\n",
       "      <td>2.92</td>\n",
       "      <td>1.89</td>\n",
       "      <td>5790</td>\n",
       "    </tr>\n",
       "    <tr>\n",
       "      <th>19</th>\n",
       "      <td>20</td>\n",
       "      <td>229.76</td>\n",
       "      <td>3.52</td>\n",
       "      <td>27.69</td>\n",
       "      <td>1892</td>\n",
       "    </tr>\n",
       "    <tr>\n",
       "      <th>20</th>\n",
       "      <td>21</td>\n",
       "      <td>79.32</td>\n",
       "      <td>6.96</td>\n",
       "      <td>29.04</td>\n",
       "      <td>1032</td>\n",
       "    </tr>\n",
       "    <tr>\n",
       "      <th>21</th>\n",
       "      <td>22</td>\n",
       "      <td>257.64</td>\n",
       "      <td>28.80</td>\n",
       "      <td>4.80</td>\n",
       "      <td>2088</td>\n",
       "    </tr>\n",
       "    <tr>\n",
       "      <th>22</th>\n",
       "      <td>23</td>\n",
       "      <td>28.56</td>\n",
       "      <td>42.12</td>\n",
       "      <td>79.08</td>\n",
       "      <td>1104</td>\n",
       "    </tr>\n",
       "    <tr>\n",
       "      <th>23</th>\n",
       "      <td>24</td>\n",
       "      <td>117.00</td>\n",
       "      <td>9.12</td>\n",
       "      <td>8.64</td>\n",
       "      <td>1164</td>\n",
       "    </tr>\n",
       "    <tr>\n",
       "      <th>24</th>\n",
       "      <td>25</td>\n",
       "      <td>244.92</td>\n",
       "      <td>39.48</td>\n",
       "      <td>55.20</td>\n",
       "      <td>2280</td>\n",
       "    </tr>\n",
       "    <tr>\n",
       "      <th>25</th>\n",
       "      <td>26</td>\n",
       "      <td>234.48</td>\n",
       "      <td>57.24</td>\n",
       "      <td>63.48</td>\n",
       "      <td>2688</td>\n",
       "    </tr>\n",
       "    <tr>\n",
       "      <th>26</th>\n",
       "      <td>27</td>\n",
       "      <td>81.36</td>\n",
       "      <td>43.92</td>\n",
       "      <td>136.80</td>\n",
       "      <td>1500</td>\n",
       "    </tr>\n",
       "    <tr>\n",
       "      <th>27</th>\n",
       "      <td>28</td>\n",
       "      <td>337.68</td>\n",
       "      <td>47.52</td>\n",
       "      <td>66.96</td>\n",
       "      <td>2928</td>\n",
       "    </tr>\n",
       "    <tr>\n",
       "      <th>28</th>\n",
       "      <td>29</td>\n",
       "      <td>89.50</td>\n",
       "      <td>52.30</td>\n",
       "      <td>67.20</td>\n",
       "      <td>5850</td>\n",
       "    </tr>\n",
       "    <tr>\n",
       "      <th>29</th>\n",
       "      <td>30</td>\n",
       "      <td>156.80</td>\n",
       "      <td>85.30</td>\n",
       "      <td>125.30</td>\n",
       "      <td>5687</td>\n",
       "    </tr>\n",
       "    <tr>\n",
       "      <th>30</th>\n",
       "      <td>31</td>\n",
       "      <td>89.32</td>\n",
       "      <td>16.96</td>\n",
       "      <td>28.04</td>\n",
       "      <td>1058</td>\n",
       "    </tr>\n",
       "    <tr>\n",
       "      <th>31</th>\n",
       "      <td>32</td>\n",
       "      <td>287.64</td>\n",
       "      <td>25.80</td>\n",
       "      <td>14.80</td>\n",
       "      <td>2458</td>\n",
       "    </tr>\n",
       "    <tr>\n",
       "      <th>32</th>\n",
       "      <td>33</td>\n",
       "      <td>58.56</td>\n",
       "      <td>46.12</td>\n",
       "      <td>75.08</td>\n",
       "      <td>1867</td>\n",
       "    </tr>\n",
       "    <tr>\n",
       "      <th>33</th>\n",
       "      <td>34</td>\n",
       "      <td>157.00</td>\n",
       "      <td>19.12</td>\n",
       "      <td>58.64</td>\n",
       "      <td>1359</td>\n",
       "    </tr>\n",
       "    <tr>\n",
       "      <th>34</th>\n",
       "      <td>35</td>\n",
       "      <td>254.92</td>\n",
       "      <td>49.48</td>\n",
       "      <td>55.02</td>\n",
       "      <td>2680</td>\n",
       "    </tr>\n",
       "    <tr>\n",
       "      <th>35</th>\n",
       "      <td>36</td>\n",
       "      <td>284.48</td>\n",
       "      <td>97.24</td>\n",
       "      <td>73.48</td>\n",
       "      <td>2669</td>\n",
       "    </tr>\n",
       "    <tr>\n",
       "      <th>36</th>\n",
       "      <td>37</td>\n",
       "      <td>85.36</td>\n",
       "      <td>49.92</td>\n",
       "      <td>186.80</td>\n",
       "      <td>1380</td>\n",
       "    </tr>\n",
       "    <tr>\n",
       "      <th>37</th>\n",
       "      <td>38</td>\n",
       "      <td>387.68</td>\n",
       "      <td>47.52</td>\n",
       "      <td>96.96</td>\n",
       "      <td>2978</td>\n",
       "    </tr>\n",
       "    <tr>\n",
       "      <th>38</th>\n",
       "      <td>39</td>\n",
       "      <td>92.50</td>\n",
       "      <td>52.30</td>\n",
       "      <td>97.20</td>\n",
       "      <td>5589</td>\n",
       "    </tr>\n",
       "    <tr>\n",
       "      <th>39</th>\n",
       "      <td>40</td>\n",
       "      <td>158.80</td>\n",
       "      <td>95.30</td>\n",
       "      <td>185.30</td>\n",
       "      <td>5623</td>\n",
       "    </tr>\n",
       "    <tr>\n",
       "      <th>40</th>\n",
       "      <td>41</td>\n",
       "      <td>286.12</td>\n",
       "      <td>45.37</td>\n",
       "      <td>73.89</td>\n",
       "      <td>2588</td>\n",
       "    </tr>\n",
       "    <tr>\n",
       "      <th>41</th>\n",
       "      <td>42</td>\n",
       "      <td>59.50</td>\n",
       "      <td>87.16</td>\n",
       "      <td>58.30</td>\n",
       "      <td>1235</td>\n",
       "    </tr>\n",
       "    <tr>\n",
       "      <th>42</th>\n",
       "      <td>43</td>\n",
       "      <td>29.66</td>\n",
       "      <td>76.08</td>\n",
       "      <td>89.56</td>\n",
       "      <td>1589</td>\n",
       "    </tr>\n",
       "    <tr>\n",
       "      <th>43</th>\n",
       "      <td>44</td>\n",
       "      <td>165.80</td>\n",
       "      <td>49.56</td>\n",
       "      <td>78.20</td>\n",
       "      <td>2548</td>\n",
       "    </tr>\n",
       "    <tr>\n",
       "      <th>44</th>\n",
       "      <td>45</td>\n",
       "      <td>262.96</td>\n",
       "      <td>15.25</td>\n",
       "      <td>78.58</td>\n",
       "      <td>1589</td>\n",
       "    </tr>\n",
       "    <tr>\n",
       "      <th>45</th>\n",
       "      <td>46</td>\n",
       "      <td>19.49</td>\n",
       "      <td>68.56</td>\n",
       "      <td>97.20</td>\n",
       "      <td>8486</td>\n",
       "    </tr>\n",
       "    <tr>\n",
       "      <th>46</th>\n",
       "      <td>47</td>\n",
       "      <td>67.80</td>\n",
       "      <td>43.36</td>\n",
       "      <td>55.20</td>\n",
       "      <td>2578</td>\n",
       "    </tr>\n",
       "    <tr>\n",
       "      <th>47</th>\n",
       "      <td>48</td>\n",
       "      <td>155.24</td>\n",
       "      <td>29.90</td>\n",
       "      <td>13.92</td>\n",
       "      <td>1502</td>\n",
       "    </tr>\n",
       "    <tr>\n",
       "      <th>48</th>\n",
       "      <td>49</td>\n",
       "      <td>10.81</td>\n",
       "      <td>12.92</td>\n",
       "      <td>10.89</td>\n",
       "      <td>5795</td>\n",
       "    </tr>\n",
       "    <tr>\n",
       "      <th>49</th>\n",
       "      <td>50</td>\n",
       "      <td>289.76</td>\n",
       "      <td>3.92</td>\n",
       "      <td>56.69</td>\n",
       "      <td>1857</td>\n",
       "    </tr>\n",
       "  </tbody>\n",
       "</table>\n",
       "</div>"
      ],
      "text/plain": [
       "    S.NO  YOUTUBE   FACEBOOK  NEWSPAPER  SALES\n",
       "0      1    276.12     45.36      83.04   2652\n",
       "1      2     53.40     47.16      54.12   1248\n",
       "2      3     20.64     55.08      83.16   1116\n",
       "3      4    181.80     49.56      70.20   2220\n",
       "4      5    216.96     12.96      70.08   1548\n",
       "5      6     10.44     58.68      90.00   8640\n",
       "6      7     69.00     39.36      28.20   1416\n",
       "7      8    144.24     23.52      13.92   1584\n",
       "8      9     10.32      2.52       1.20   5760\n",
       "9     10    239.76      3.12      25.44   1272\n",
       "10    11    253.12     44.37      73.04   2658\n",
       "11    12     53.50     57.16      55.30   1258\n",
       "12    13     20.66     75.08      86.16   1516\n",
       "13    14    185.80     48.56      75.20   2520\n",
       "14    15    252.96     15.96      70.58   1578\n",
       "15    16     10.49     68.68      99.00   8940\n",
       "16    17     67.00     43.36      58.20   2516\n",
       "17    18    145.24     23.90      15.92   1564\n",
       "18    19     10.31      2.92       1.89   5790\n",
       "19    20    229.76      3.52      27.69   1892\n",
       "20    21     79.32      6.96      29.04   1032\n",
       "21    22    257.64     28.80       4.80   2088\n",
       "22    23     28.56     42.12      79.08   1104\n",
       "23    24    117.00      9.12       8.64   1164\n",
       "24    25    244.92     39.48      55.20   2280\n",
       "25    26    234.48     57.24      63.48   2688\n",
       "26    27     81.36     43.92     136.80   1500\n",
       "27    28    337.68     47.52      66.96   2928\n",
       "28    29     89.50     52.30      67.20   5850\n",
       "29    30    156.80     85.30     125.30   5687\n",
       "30    31     89.32     16.96      28.04   1058\n",
       "31    32    287.64     25.80      14.80   2458\n",
       "32    33     58.56     46.12      75.08   1867\n",
       "33    34    157.00     19.12      58.64   1359\n",
       "34    35    254.92     49.48      55.02   2680\n",
       "35    36    284.48     97.24      73.48   2669\n",
       "36    37     85.36     49.92     186.80   1380\n",
       "37    38    387.68     47.52      96.96   2978\n",
       "38    39     92.50     52.30      97.20   5589\n",
       "39    40    158.80     95.30     185.30   5623\n",
       "40    41    286.12     45.37      73.89   2588\n",
       "41    42     59.50     87.16      58.30   1235\n",
       "42    43     29.66     76.08      89.56   1589\n",
       "43    44    165.80     49.56      78.20   2548\n",
       "44    45    262.96     15.25      78.58   1589\n",
       "45    46     19.49     68.56      97.20   8486\n",
       "46    47     67.80     43.36      55.20   2578\n",
       "47    48    155.24     29.90      13.92   1502\n",
       "48    49     10.81     12.92      10.89   5795\n",
       "49    50    289.76      3.92      56.69   1857"
      ]
     },
     "execution_count": 5,
     "metadata": {},
     "output_type": "execute_result"
    }
   ],
   "source": [
    "dataset"
   ]
  },
  {
   "cell_type": "markdown",
   "id": "2da3ecf0",
   "metadata": {},
   "source": [
    "# Simple linear regression"
   ]
  },
  {
   "cell_type": "code",
   "execution_count": 6,
   "id": "b6b093ad",
   "metadata": {},
   "outputs": [],
   "source": [
    "x=dataset['SALES'].values.reshape(-1,1)\n",
    "y=dataset['FACEBOOK'].values.reshape(-1,1)"
   ]
  },
  {
   "cell_type": "code",
   "execution_count": 7,
   "id": "9e2b01bb",
   "metadata": {},
   "outputs": [
    {
     "data": {
      "image/png": "[encoded data removed]",
      "text/plain": [
       "<Figure size 1080x504 with 1 Axes>"
      ]
     },
     "metadata": {
      "needs_background": "light"
     },
     "output_type": "display_data"
    }
   ],
   "source": [
    "plt.figure(figsize=(15,7))\n",
    "plt.scatter(x,y,c='black')\n",
    "plt.xlabel(\"Money spent on NEWSPAPER\")\n",
    "plt.ylabel(\"SALES\")\n",
    "plt.show()"
   ]
  },
  {
   "cell_type": "code",
   "execution_count": 8,
   "id": "31529eb7",
   "metadata": {},
   "outputs": [],
   "source": [
    "from sklearn.model_selection import train_test_split\n",
    "x_train,x_test,y_train,y_test= train_test_split(x,y, test_size=0.3,random_state=42)"
   ]
  },
  {
   "cell_type": "code",
   "execution_count": 9,
   "id": "ae174614",
   "metadata": {},
   "outputs": [
    {
     "data": {
      "text/plain": [
       "LinearRegression()"
      ]
     },
     "execution_count": 9,
     "metadata": {},
     "output_type": "execute_result"
    }
   ],
   "source": [
    "from sklearn.linear_model import LinearRegression\n",
    "reg=LinearRegression()\n",
    "reg.fit(x_train,y_train)"
   ]
  },
  {
   "cell_type": "code",
   "execution_count": 10,
   "id": "b33652b3",
   "metadata": {},
   "outputs": [
    {
     "data": {
      "image/png": "[encoded data removed]",
      "text/plain": [
       "<Figure size 1152x576 with 1 Axes>"
      ]
     },
     "metadata": {
      "needs_background": "light"
     },
     "output_type": "display_data"
    }
   ],
   "source": [
    "y_pred = reg.predict(x_test)\n",
    "plt.figure(figsize=(16,8))\n",
    "plt.scatter(x,y, c='black')\n",
    "plt.plot(\n",
    "    x_test,\n",
    "    y_pred,\n",
    "    c='blue',\n",
    "    linewidth=2\n",
    ")\n",
    "plt.xlabel(\"Money spent on NEWSPAPER\")\n",
    "plt.ylabel(\"SALES\")\n",
    "plt.show()"
   ]
  },
  {
   "cell_type": "code",
   "execution_count": 11,
   "id": "c204509a",
   "metadata": {},
   "outputs": [
    {
     "data": {
      "text/plain": [
       "array([[0.00355237]])"
      ]
     },
     "execution_count": 11,
     "metadata": {},
     "output_type": "execute_result"
    }
   ],
   "source": [
    "reg.coef_"
   ]
  },
  {
   "cell_type": "code",
   "execution_count": 12,
   "id": "d1d3da2c",
   "metadata": {},
   "outputs": [
    {
     "data": {
      "text/plain": [
       "array([32.15338374])"
      ]
     },
     "execution_count": 12,
     "metadata": {},
     "output_type": "execute_result"
    }
   ],
   "source": [
    "reg.intercept_"
   ]
  },
  {
   "cell_type": "code",
   "execution_count": 13,
   "id": "3217de90",
   "metadata": {},
   "outputs": [
    {
     "data": {
      "text/plain": [
       "0.032024907118453516"
      ]
     },
     "execution_count": 13,
     "metadata": {},
     "output_type": "execute_result"
    }
   ],
   "source": [
    "from sklearn.metrics import r2_score\n",
    "r2_score(y_test,y_pred)"
   ]
  },
  {
   "cell_type": "code",
   "execution_count": 14,
   "id": "da50b36a",
   "metadata": {},
   "outputs": [
    {
     "data": {
      "text/plain": [
       "array([[33.13426323]])"
      ]
     },
     "execution_count": 14,
     "metadata": {},
     "output_type": "execute_result"
    }
   ],
   "source": [
    "output=reg.predict([[276.12]])\n",
    "output"
   ]
  },
  {
   "cell_type": "markdown",
   "id": "88937924",
   "metadata": {},
   "source": [
    "# Multiple linear regression"
   ]
  },
  {
   "cell_type": "code",
   "execution_count": 15,
   "id": "e12eaae8",
   "metadata": {},
   "outputs": [],
   "source": [
    "x=dataset.drop(['SALES'],axis=1)\n",
    "y=dataset['SALES'].values.reshape(-1,1)"
   ]
  },
  {
   "cell_type": "code",
   "execution_count": 16,
   "id": "8bc759f7",
   "metadata": {},
   "outputs": [],
   "source": [
    "from sklearn.model_selection import train_test_split\n",
    "x_train,x_test,y_train,y_test= train_test_split(x,y, test_size=0.3,random_state=42)"
   ]
  },
  {
   "cell_type": "code",
   "execution_count": 17,
   "id": "04a7aca9",
   "metadata": {},
   "outputs": [
    {
     "data": {
      "text/plain": [
       "LinearRegression()"
      ]
     },
     "execution_count": 17,
     "metadata": {},
     "output_type": "execute_result"
    }
   ],
   "source": [
    "from sklearn.linear_model import LinearRegression\n",
    "multiple_reg=LinearRegression()\n",
    "multiple_reg.fit(x_train,y_train)"
   ]
  },
  {
   "cell_type": "code",
   "execution_count": 19,
   "id": "6f30243d",
   "metadata": {},
   "outputs": [],
   "source": [
    "y_pred = multiple_reg.predict(x_test)"
   ]
  },
  {
   "cell_type": "code",
   "execution_count": 20,
   "id": "fc68e714",
   "metadata": {},
   "outputs": [
    {
     "data": {
      "text/plain": [
       "array([2323.58816012])"
      ]
     },
     "execution_count": 20,
     "metadata": {},
     "output_type": "execute_result"
    }
   ],
   "source": [
    "multiple_reg.intercept_"
   ]
  },
  {
   "cell_type": "code",
   "execution_count": 21,
   "id": "25cee5df",
   "metadata": {},
   "outputs": [
    {
     "data": {
      "text/plain": [
       "array([[-12.94317672,  -3.18469403,  16.90524773,   7.7689118 ]])"
      ]
     },
     "execution_count": 21,
     "metadata": {},
     "output_type": "execute_result"
    }
   ],
   "source": [
    "multiple_reg.coef_"
   ]
  },
  {
   "cell_type": "code",
   "execution_count": 22,
   "id": "ad1f2f1b",
   "metadata": {},
   "outputs": [
    {
     "data": {
      "text/plain": [
       "-0.008650323280840588"
      ]
     },
     "execution_count": 22,
     "metadata": {},
     "output_type": "execute_result"
    }
   ],
   "source": [
    "from sklearn.metrics import r2_score\n",
    "r2_score(y_test,y_pred)"
   ]
  },
  {
   "cell_type": "code",
   "execution_count": null,
   "id": "af931b7b",
   "metadata": {},
   "outputs": [
    {
     "name": "stdout",
     "output_type": "stream",
     "text": [
      "Enter the amount:\n",
      "YOUTUBE : 123\n",
      "FACEBOOK : 235\n"
     ]
    }
   ],
   "source": [
    "print(\"Enter the amount:\")\n",
    "youtube= float(input(\"YOUTUBE : \"))\n",
    "facebook = float(input(\"FACEBOOK : \"))\n",
    "newspaper = float(input(\"NEWSPAPER : \"))\n",
    "output=multiple_reg.predict([[youtube,facebook,newspaper]])\n",
    "print(\"Amount you get Rs{:.2f} sales by Rs{} on YOUTUBE, Rs{} on FACEBOOK and Rs{} on NEWSPAPER.\"\\\n",
    "      .format(output[0][0] if output else \"not found\",youtube,facebook,newspaper))"
   ]
  },
  {
   "cell_type": "code",
   "execution_count": null,
   "id": "a96e392b",
   "metadata": {},
   "outputs": [],
   "source": []
  }
 ],
 "metadata": {
  "kernelspec": {
   "display_name": "Python 3",
   "language": "python",
   "name": "python3"
  },
  "language_info": {
   "codemirror_mode": {
    "name": "ipython",
    "version": 3
   },
   "file_extension": ".py",
   "mimetype": "text/x-python",
   "name": "python",
   "nbconvert_exporter": "python",
   "pygments_lexer": "ipython3",
   "version": "3.8.8"
  }
 },
 "nbformat": 4,
 "nbformat_minor": 5
}
